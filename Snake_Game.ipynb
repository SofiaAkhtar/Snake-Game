{
  "nbformat": 4,
  "nbformat_minor": 0,
  "metadata": {
    "colab": {
      "provenance": [],
      "authorship_tag": "ABX9TyN7XvaJZwYbyvOgmO/VzdOJ",
      "include_colab_link": true
    },
    "kernelspec": {
      "name": "python3",
      "display_name": "Python 3"
    },
    "language_info": {
      "name": "python"
    }
  },
  "cells": [
    {
      "cell_type": "markdown",
      "metadata": {
        "id": "view-in-github",
        "colab_type": "text"
      },
      "source": [
        "<a href=\"https://colab.research.google.com/github/SofiaAkhtar/Snake-Game/blob/main/Snake_Game.ipynb\" target=\"_parent\"><img src=\"https://colab.research.google.com/assets/colab-badge.svg\" alt=\"Open In Colab\"/></a>"
      ]
    },
    {
      "cell_type": "code",
      "execution_count": null,
      "metadata": {
        "colab": {
          "base_uri": "https://localhost:8080/",
          "height": 140
        },
        "id": "iHNICgTgbdUM",
        "outputId": "c7154599-c249-46fb-86b6-7a1eb074d60b"
      },
      "outputs": [
        {
          "output_type": "stream",
          "name": "stdout",
          "text": [
            "Game Over!\n"
          ]
        },
        {
          "output_type": "error",
          "ename": "SystemExit",
          "evalue": "ignored",
          "traceback": [
            "An exception has occurred, use %tb to see the full traceback.\n",
            "\u001b[0;31mSystemExit\u001b[0m\n"
          ]
        }
      ],
      "source": [
        "import pygame\n",
        "import sys\n",
        "import random\n",
        "import time\n",
        "\n",
        "# Initialize Pygame\n",
        "pygame.init()\n",
        "\n",
        "# Constants\n",
        "WIDTH, HEIGHT = 600, 400\n",
        "GRID_SIZE = 20\n",
        "GRID_WIDTH = WIDTH // GRID_SIZE\n",
        "GRID_HEIGHT = HEIGHT // GRID_SIZE\n",
        "FPS = 10\n",
        "\n",
        "# Colors\n",
        "WHITE = (255, 255, 255)\n",
        "RED = (255, 0, 0)\n",
        "GREEN = (0, 255, 0)\n",
        "BLACK = (0, 0, 0)\n",
        "\n",
        "# Directional constants\n",
        "UP = (0, -1)\n",
        "DOWN = (0, 1)\n",
        "LEFT = (-1, 0)\n",
        "RIGHT = (1, 0)\n",
        "\n",
        "class Snake:\n",
        "    def __init__(self):\n",
        "        self.body = [(GRID_WIDTH // 2, GRID_HEIGHT // 2)]\n",
        "        self.direction = RIGHT\n",
        "\n",
        "    def move(self, food):\n",
        "        new_head = (self.body[0][0] + self.direction[0], self.body[0][1] + self.direction[1])\n",
        "\n",
        "        if new_head == food.position:\n",
        "            self.body.insert(0, food.position)\n",
        "            food.spawn()\n",
        "        else:\n",
        "            self.body.insert(0, new_head)\n",
        "            self.body.pop()\n",
        "\n",
        "    def check_collision(self):\n",
        "        head = self.body[0]\n",
        "        return (\n",
        "            head[0] < 0 or head[0] >= GRID_WIDTH or\n",
        "            head[1] < 0 or head[1] >= GRID_HEIGHT or\n",
        "            head in self.body[1:]\n",
        "        )\n",
        "\n",
        "    def change_direction(self, new_direction):\n",
        "        if (new_direction[0], new_direction[1]) != (-self.direction[0], -self.direction[1]):\n",
        "            self.direction = new_direction\n",
        "\n",
        "    def draw(self, screen):\n",
        "        for segment in self.body:\n",
        "            pygame.draw.rect(screen, GREEN, (segment[0] * GRID_SIZE, segment[1] * GRID_SIZE, GRID_SIZE, GRID_SIZE))\n",
        "\n",
        "class Food:\n",
        "    def __init__(self):\n",
        "        self.position = (0, 0)\n",
        "        self.spawn()\n",
        "\n",
        "    def spawn(self):\n",
        "        self.position = (random.randint(0, GRID_WIDTH - 1), random.randint(0, GRID_HEIGHT - 1))\n",
        "\n",
        "    def draw(self, screen):\n",
        "        pygame.draw.rect(screen, RED, (self.position[0] * GRID_SIZE, self.position[1] * GRID_SIZE, GRID_SIZE, GRID_SIZE))\n",
        "\n",
        "def main():\n",
        "    screen = pygame.display.set_mode((WIDTH, HEIGHT))\n",
        "    pygame.display.set_caption(\"Snake Game\")\n",
        "\n",
        "    snake = Snake()\n",
        "    food = Food()\n",
        "\n",
        "    clock = pygame.time.Clock()\n",
        "\n",
        "    while True:\n",
        "        for event in pygame.event.get():\n",
        "            if event.type == pygame.QUIT:\n",
        "                pygame.quit()\n",
        "                sys.exit()\n",
        "\n",
        "            elif event.type == pygame.KEYDOWN:\n",
        "                if event.key == pygame.K_UP:\n",
        "                    snake.change_direction(UP)\n",
        "                elif event.key == pygame.K_DOWN:\n",
        "                    snake.change_direction(DOWN)\n",
        "                elif event.key == pygame.K_LEFT:\n",
        "                    snake.change_direction(LEFT)\n",
        "                elif event.key == pygame.K_RIGHT:\n",
        "                    snake.change_direction(RIGHT)\n",
        "\n",
        "        snake.move(food)\n",
        "        if snake.check_collision():\n",
        "            print(\"Game Over!\")\n",
        "            pygame.display.flip()\n",
        "            time.sleep(2)  # Wait for 2 seconds before exiting\n",
        "            pygame.quit()\n",
        "            sys.exit()\n",
        "\n",
        "        screen.fill(BLACK)\n",
        "        snake.draw(screen)\n",
        "        food.draw(screen)\n",
        "\n",
        "        pygame.display.flip()\n",
        "        clock.tick(FPS)\n",
        "\n",
        "if __name__ == \"__main__\":\n",
        "    main()\n"
      ]
    }
  ]
}